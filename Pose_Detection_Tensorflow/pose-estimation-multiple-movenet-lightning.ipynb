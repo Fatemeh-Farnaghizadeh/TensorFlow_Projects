{
 "cells": [
  {
   "attachments": {},
   "cell_type": "markdown",
   "metadata": {},
   "source": [
    "## Install"
   ]
  },
  {
   "cell_type": "code",
   "execution_count": null,
   "metadata": {},
   "outputs": [],
   "source": [
    "!pip install tensorflow==2.10.0 tensorflow-gpu==2.10.0 tensorflow-hub opencv-python matplotlib"
   ]
  },
  {
   "attachments": {},
   "cell_type": "markdown",
   "metadata": {},
   "source": [
    "## Imports"
   ]
  },
  {
   "cell_type": "code",
   "execution_count": null,
   "metadata": {},
   "outputs": [],
   "source": [
    "import tensorflow as tf\n",
    "import tensorflow_hub as hub\n",
    "import cv2\n",
    "from matplotlib import pyplot as plt\n",
    "import numpy as np"
   ]
  },
  {
   "cell_type": "code",
   "execution_count": null,
   "metadata": {},
   "outputs": [],
   "source": [
    "gpus = tf.config.experimental.list_physical_devices(device_type='GPU')\n",
    "\n",
    "for gpu in gpus:\n",
    "    tf.config.experimental.set_memory_growth(gpu, True)"
   ]
  },
  {
   "attachments": {},
   "cell_type": "markdown",
   "metadata": {},
   "source": [
    "## Model"
   ]
  },
  {
   "cell_type": "code",
   "execution_count": null,
   "metadata": {},
   "outputs": [],
   "source": [
    "model = hub.load('https://tfhub.dev/google/movenet/multipose/lightning/1')\n",
    "final_model = model.signatures['serving_default']"
   ]
  },
  {
   "attachments": {},
   "cell_type": "markdown",
   "metadata": {},
   "source": [
    "## Real-time Pose Estimation"
   ]
  },
  {
   "cell_type": "code",
   "execution_count": null,
   "metadata": {},
   "outputs": [],
   "source": [
    "def person_points(frame ,keypoints, score_threshold):\n",
    "\n",
    "    y, x, c = frame.shape\n",
    "\n",
    "    shaped_keypoints = np.multiply(keypoints, [y, x, 1])\n",
    "\n",
    "    for point in shaped_keypoints:\n",
    "        p_y, p_x, p_s = point\n",
    "\n",
    "        if p_s > score_threshold:\n",
    "            cv2.circle(frame, (int(p_x), int(p_y)), 4, (0, 255, 0), -1)\n",
    "        "
   ]
  },
  {
   "cell_type": "code",
   "execution_count": null,
   "metadata": {},
   "outputs": [],
   "source": [
    "# point to connect\n",
    "EDGES = {\n",
    "    (0, 1): (0, 255, 0),\n",
    "    (0, 2): (0, 0,  255),\n",
    "    (1, 3): (0, 255, 0),\n",
    "    (2, 4): (0, 0,  255),\n",
    "    (0, 5): (0, 255, 0),\n",
    "    (0, 6): (0, 0,  255),\n",
    "    (5, 7): (0, 255, 0),\n",
    "    (7, 9): (0, 255, 0),\n",
    "    (6, 8): (0, 0,  255),\n",
    "    (8, 10): (0, 0,  255),\n",
    "    (5, 6): ( 255, 0,  0),\n",
    "    (5, 11): (0, 255, 0),\n",
    "    (6, 12): (0, 0,  255),\n",
    "    (11, 12): ( 255, 0,  0),\n",
    "    (11, 13): (0, 255, 0),\n",
    "    (13, 15): (0, 255, 0),\n",
    "    (12, 14): (0, 0,  255),\n",
    "    (14, 16): (0, 0,  255)\n",
    "}"
   ]
  },
  {
   "cell_type": "code",
   "execution_count": null,
   "metadata": {},
   "outputs": [],
   "source": [
    "def person_edges(frame ,keypoints, edges, score_threshold):\n",
    "\n",
    "    y, x, c = frame.shape\n",
    "\n",
    "    shaped_keypoints = np.multiply(keypoints, [y, x, 1])\n",
    "\n",
    "    for points, color in edges.items():\n",
    "\n",
    "        p1, p2 = points\n",
    "\n",
    "        p1_y, p1_x, p1_s = shaped_keypoints[p1]\n",
    "        p2_y, p2_x, p2_s = shaped_keypoints[p2]\n",
    "\n",
    "        if (p1_s > score_threshold) & (p2_s > score_threshold):\n",
    "            \n",
    "            cv2.line(frame, (int(p1_x), int(p1_y)), (int(p2_x), int(p2_y)), color, 2)\n",
    "    "
   ]
  },
  {
   "cell_type": "code",
   "execution_count": null,
   "metadata": {},
   "outputs": [],
   "source": [
    "def persons_points_edges(frame, persons_keypoints_scores, edges, score_threshold):\n",
    "    \n",
    "    for person in (persons_keypoints_scores):\n",
    "        person_points(frame, person, score_threshold)\n",
    "        person_edges(frame, person, edges, score_threshold)\n",
    "\n",
    "    "
   ]
  },
  {
   "cell_type": "code",
   "execution_count": null,
   "metadata": {},
   "outputs": [],
   "source": [
    "cap = cv2.VideoCapture(0)\n",
    "\n",
    "while cap.isOpened():\n",
    "    \n",
    "    ret, frame = cap.read()\n",
    "\n",
    "    img = frame.copy()\n",
    "    img = tf.image.resize_with_pad(tf.expand_dims(img, axis=0), 192, 256)\n",
    "    input_img = tf.cast(img, dtype=tf.int32)\n",
    "    \n",
    "    outputs = final_model(input_img) # outputs is a dictionary\n",
    "\n",
    "    persons_keypoints_scores = outputs['output_0'].numpy()[:,:,:51].reshape((6,17,3)) #shape of outputs['output_0']: [1, 6, 56]\n",
    "\n",
    "    persons_points_edges(frame, persons_keypoints_scores, EDGES, 0.2)\n",
    "   \n",
    "    cv2.imshow('pose', frame)\n",
    "    \n",
    "    if cv2.waitKey(10) & 0xFF == ord('q'):\n",
    "        break\n",
    "\n",
    "cap.release()\n",
    "cv2.destroyAllWindows()"
   ]
  },
  {
   "attachments": {},
   "cell_type": "markdown",
   "metadata": {},
   "source": [
    "## Video Pose Estimaton"
   ]
  },
  {
   "cell_type": "code",
   "execution_count": null,
   "metadata": {},
   "outputs": [],
   "source": [
    "cap = cv2.VideoCapture('mixkit-healthy-woman-jumping-a-rope-40234-medium.mp4')\n",
    "\n",
    "while cap.isOpened():\n",
    "    \n",
    "    ret, frame = cap.read()\n",
    "\n",
    "    img = frame.copy()\n",
    "    img = tf.image.resize_with_pad(tf.expand_dims(img, axis=0), 288, 512)\n",
    "    input_img = tf.cast(img, dtype=tf.int32)\n",
    "    \n",
    "    outputs = final_model(input_img) # outputs is a dictionary\n",
    "\n",
    "    persons_keypoints_scores = outputs['output_0'].numpy()[:,:,:51].reshape((6,17,3)) #shape of outputs['output_0']: [1, 6, 56]\n",
    "\n",
    "    persons_points_edges(frame, persons_keypoints_scores, EDGES, 0.2)\n",
    "   \n",
    "    cv2.imshow('pose', frame)\n",
    "    \n",
    "    if cv2.waitKey(10) & 0xFF == ord('q'):\n",
    "        break\n",
    "\n",
    "cap.release()\n",
    "cv2.destroyAllWindows()"
   ]
  },
  {
   "attachments": {},
   "cell_type": "markdown",
   "metadata": {},
   "source": [
    "## Image Pose Estimation"
   ]
  },
  {
   "cell_type": "code",
   "execution_count": null,
   "metadata": {},
   "outputs": [],
   "source": [
    "\n",
    "img = cv2.imread('sport12.jpg')\n",
    "\n",
    "input_img = img.copy()\n",
    "input_img = tf.image.resize_with_pad(tf.expand_dims(input_img, axis=0), 128, 192)\n",
    "input_img = tf.cast(input_img, dtype=tf.int32)\n",
    "\n",
    "outputs = final_model(input_img) # outputs is a dictionary\n",
    "\n",
    "persons_keypoints_scores = outputs['output_0'].numpy()[:,:,:51].reshape((6,17,3)) #shape of outputs['output_0']: [1, 6, 56]\n",
    "\n",
    "persons_points_edges(img, persons_keypoints_scores, EDGES, 0.18)\n",
    "\n",
    "cv2.imwrite('pose.jpg', img)\n",
    "\n",
    "cv2.imshow('sport', img)\n",
    "cv2.waitKey(0); cv2.destroyAllWindows(); cv2.waitKey(1)\n"
   ]
  },
  {
   "cell_type": "code",
   "execution_count": null,
   "metadata": {},
   "outputs": [],
   "source": []
  }
 ],
 "metadata": {
  "kernelspec": {
   "display_name": "tensorflowenv",
   "language": "python",
   "name": "tensorflowenv"
  },
  "language_info": {
   "codemirror_mode": {
    "name": "ipython",
    "version": 3
   },
   "file_extension": ".py",
   "mimetype": "text/x-python",
   "name": "python",
   "nbconvert_exporter": "python",
   "pygments_lexer": "ipython3",
   "version": "3.10.8"
  },
  "orig_nbformat": 4
 },
 "nbformat": 4,
 "nbformat_minor": 2
}
